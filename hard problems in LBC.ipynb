{
 "cells": [
  {
   "cell_type": "markdown",
   "id": "fffc0355-d0ae-432d-b08b-8b4f55cb98ac",
   "metadata": {},
   "source": [
    "# Hard Problems in Lattice-Based Cryptography - Introduction to Lattice-based Cryptography"
   ]
  },
  {
   "cell_type": "markdown",
   "id": "519f3390-907d-4ccd-8525-16f8b927e258",
   "metadata": {},
   "source": [
    "## Shortest Vector Problems(SVP)\n",
    "\n",
    "In the first post, we talked about the first successive minimum $\\lambda_1$ and good and bad bases. This problem is based on the hardness of finding $\\lambda_1$ given a bad basis. \n",
    "\n",
    "Given an arbitrary basis $B$ of some lattice $L = L(B)$, find a shortest nonzero lattice vector, i.e a $\\mathbf{v} \\in L$ for which $||v|| = \\lambda_1(L)$.\n",
    "\n",
    "### Approximate Short Vector Problem($SVP_{\\gamma}$)\n",
    "\n",
    "Given a basis $\\mathbf{B}$ of an n-dimensional lattice $L = L(\\mathbf{B})$, find a nonzero vector $\\mathbf{v} \\in L$ for which $||v|| \\leq \\gamma(n).\\lambda_{1}(L)$. \n",
    "\n",
    "### Decisional Approximate SVP($GapSVP_{\\gamma}$)"
   ]
  },
  {
   "cell_type": "markdown",
   "id": "c841cc1d-c2c4-4d45-aba3-d84acd359d50",
   "metadata": {},
   "source": [
    "### Closest Vector Problems (CVP)"
   ]
  },
  {
   "cell_type": "markdown",
   "id": "def4c83b-3ebd-48da-8393-fa12f519c259",
   "metadata": {},
   "source": [
    "### Bounded Distance Decoding Problem\n",
    "___"
   ]
  },
  {
   "cell_type": "markdown",
   "id": "718621a1-b573-4be0-8096-d27fef3f13cc",
   "metadata": {},
   "source": [
    "## Modern Hard Problems"
   ]
  },
  {
   "cell_type": "markdown",
   "id": "a75f07e0-2252-4a46-96d2-fefed7921fef",
   "metadata": {},
   "source": [
    "### Short Integer Solution(SIS)"
   ]
  },
  {
   "cell_type": "markdown",
   "id": "57aac577-1b07-498d-b39f-c7d0c413107f",
   "metadata": {},
   "source": [
    "### Inhomogeneous SIS\n",
    "\n",
    "SIS and ISIS can be reduced to GapSVP"
   ]
  },
  {
   "cell_type": "markdown",
   "id": "72f8201b-4b58-4681-a322-b5b64bd93d77",
   "metadata": {},
   "source": [
    "### Learning With Errors (LWE)"
   ]
  },
  {
   "cell_type": "markdown",
   "id": "5c4eb21e-dc6b-4f75-ae54-6dc679dbd5b1",
   "metadata": {},
   "source": [
    "#### Search LWE"
   ]
  },
  {
   "cell_type": "markdown",
   "id": "a7daca76-5cc6-4dfd-9895-6eb18ec7a145",
   "metadata": {},
   "source": [
    "#### Decision LWE"
   ]
  },
  {
   "cell_type": "markdown",
   "id": "e9581f77-56e7-41e9-8fe7-16cb17846e62",
   "metadata": {},
   "source": [
    "#### Ring LWE"
   ]
  }
 ],
 "metadata": {
  "kernelspec": {
   "display_name": "Python [conda env:base] *",
   "language": "python",
   "name": "conda-base-py"
  },
  "language_info": {
   "codemirror_mode": {
    "name": "ipython",
    "version": 3
   },
   "file_extension": ".py",
   "mimetype": "text/x-python",
   "name": "python",
   "nbconvert_exporter": "python",
   "pygments_lexer": "ipython3",
   "version": "3.12.7"
  }
 },
 "nbformat": 4,
 "nbformat_minor": 5
}
