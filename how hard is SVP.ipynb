{
 "cells": [
  {
   "cell_type": "markdown",
   "id": "8a51d82b-1cf4-483b-b3f9-a4fda946f4fa",
   "metadata": {},
   "source": [
    "# How hard is SVP?"
   ]
  },
  {
   "cell_type": "code",
   "execution_count": null,
   "id": "2848a9fa-ba14-4b9f-9a00-298313823c52",
   "metadata": {},
   "outputs": [],
   "source": []
  }
 ],
 "metadata": {
  "kernelspec": {
   "display_name": "Python [conda env:base] *",
   "language": "python",
   "name": "conda-base-py"
  },
  "language_info": {
   "codemirror_mode": {
    "name": "ipython",
    "version": 3
   },
   "file_extension": ".py",
   "mimetype": "text/x-python",
   "name": "python",
   "nbconvert_exporter": "python",
   "pygments_lexer": "ipython3",
   "version": "3.12.7"
  }
 },
 "nbformat": 4,
 "nbformat_minor": 5
}
